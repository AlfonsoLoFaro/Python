{
 "cells": [
  {
   "cell_type": "code",
   "execution_count": 1,
   "id": "21a7cfad-3750-4287-930d-b9fc47caaf60",
   "metadata": {},
   "outputs": [],
   "source": [
    "#ESERCIZIO 2 - michele"
   ]
  },
  {
   "cell_type": "code",
   "execution_count": 6,
   "id": "f9b4421a-2430-4c5b-b68f-2f423f86122b",
   "metadata": {},
   "outputs": [
    {
     "data": {
      "text/plain": [
       "'Oggi è mercoledi'"
      ]
     },
     "execution_count": 6,
     "metadata": {},
     "output_type": "execute_result"
    }
   ],
   "source": [
    "nome=\"oggi è MERCOLEDi\"\n",
    "nome.capitalize()"
   ]
  },
  {
   "cell_type": "code",
   "execution_count": 7,
   "id": "1b655dcc-f1a6-4ade-8bfe-52b64cabd5e1",
   "metadata": {},
   "outputs": [
    {
     "data": {
      "text/plain": [
       "1"
      ]
     },
     "execution_count": 7,
     "metadata": {},
     "output_type": "execute_result"
    }
   ],
   "source": [
    "nome.count(\"MER\")"
   ]
  },
  {
   "cell_type": "code",
   "execution_count": 9,
   "id": "b00ac408-71a8-4a59-a8f1-b1474802eda5",
   "metadata": {},
   "outputs": [
    {
     "data": {
      "text/plain": [
       "'oggi è mercoledi'"
      ]
     },
     "execution_count": 9,
     "metadata": {},
     "output_type": "execute_result"
    }
   ],
   "source": [
    "nome_nuovo=nome.lower()\n",
    "nome_nuovo"
   ]
  },
  {
   "cell_type": "code",
   "execution_count": 5,
   "id": "b6398a31-c145-4d29-8c7b-073ce822281f",
   "metadata": {},
   "outputs": [
    {
     "name": "stdin",
     "output_type": "stream",
     "text": [
      "inserisci un numero 4\n"
     ]
    },
    {
     "name": "stdout",
     "output_type": "stream",
     "text": [
      "il numero:  4 elevato a 2 e':  16\n"
     ]
    }
   ],
   "source": [
    "x=int(input(\"inserisci un numero\"))\n",
    "y=x**2\n",
    "print(\"il numero: \",x,\"elevato a 2 e': \",y)"
   ]
  },
  {
   "cell_type": "code",
   "execution_count": 6,
   "id": "0b8430fe-e955-4d15-ae24-24abeabe8088",
   "metadata": {},
   "outputs": [
    {
     "data": {
      "text/plain": [
       "'3'"
      ]
     },
     "execution_count": 6,
     "metadata": {},
     "output_type": "execute_result"
    }
   ],
   "source": [
    "stringa=\"0123456789\"\n",
    "stringa[3]"
   ]
  },
  {
   "cell_type": "code",
   "execution_count": 7,
   "id": "b548525c-7bdb-4366-a90a-01ef90dc9ce7",
   "metadata": {},
   "outputs": [
    {
     "data": {
      "text/plain": [
       "'7'"
      ]
     },
     "execution_count": 7,
     "metadata": {},
     "output_type": "execute_result"
    }
   ],
   "source": [
    "stringa[7]"
   ]
  },
  {
   "cell_type": "code",
   "execution_count": null,
   "id": "51112336-d205-47be-a0a1-ae716ed5771f",
   "metadata": {},
   "outputs": [],
   "source": []
  },
  {
   "cell_type": "code",
   "execution_count": 8,
   "id": "d387429c-5d07-4dea-ab4a-32758bf65a29",
   "metadata": {},
   "outputs": [
    {
     "data": {
      "text/plain": [
       "'8'"
      ]
     },
     "execution_count": 8,
     "metadata": {},
     "output_type": "execute_result"
    }
   ],
   "source": [
    "stringa[-2]"
   ]
  },
  {
   "cell_type": "code",
   "execution_count": 9,
   "id": "05ffa73a-93c4-4aa9-8f57-f13975b25d24",
   "metadata": {},
   "outputs": [
    {
     "data": {
      "text/plain": [
       "'23456'"
      ]
     },
     "execution_count": 9,
     "metadata": {},
     "output_type": "execute_result"
    }
   ],
   "source": [
    "stringa[2:7]"
   ]
  },
  {
   "cell_type": "code",
   "execution_count": 10,
   "id": "73d6d85e-7039-487e-9232-c1e7e2634e36",
   "metadata": {},
   "outputs": [
    {
     "data": {
      "text/plain": [
       "'1357'"
      ]
     },
     "execution_count": 10,
     "metadata": {},
     "output_type": "execute_result"
    }
   ],
   "source": [
    "stringa[1:-1:2]"
   ]
  },
  {
   "cell_type": "code",
   "execution_count": 11,
   "id": "ce0cc0d8-fe50-4190-a3f1-6176d9c5afc0",
   "metadata": {},
   "outputs": [],
   "source": [
    "stringa=\"parola\""
   ]
  },
  {
   "cell_type": "code",
   "execution_count": 12,
   "id": "e3a1481a-8eca-4746-9701-409972516619",
   "metadata": {},
   "outputs": [
    {
     "data": {
      "text/plain": [
       "'parola'"
      ]
     },
     "execution_count": 12,
     "metadata": {},
     "output_type": "execute_result"
    }
   ],
   "source": [
    "stringa"
   ]
  },
  {
   "cell_type": "code",
   "execution_count": 13,
   "id": "1eee481a-79cf-4e31-852c-3fc40ae0568a",
   "metadata": {},
   "outputs": [
    {
     "data": {
      "text/plain": [
       "str"
      ]
     },
     "execution_count": 13,
     "metadata": {},
     "output_type": "execute_result"
    }
   ],
   "source": [
    "type(stringa)"
   ]
  },
  {
   "cell_type": "code",
   "execution_count": 16,
   "id": "a4830c90-3dc7-41c4-8a6b-048ab91837df",
   "metadata": {},
   "outputs": [
    {
     "name": "stdin",
     "output_type": "stream",
     "text": [
      "inserisci un carattere d\n"
     ]
    },
    {
     "name": "stdout",
     "output_type": "stream",
     "text": [
      "il carattere non è una vocale\n"
     ]
    }
   ],
   "source": [
    "carattere=input(\"inserisci un carattere\").lower()\n",
    "vocali='aeiou'\n",
    "if carattere in vocali:\n",
    "    print(\"il carattere è una vocale\")\n",
    "else:\n",
    "    print(\"il carattere non è una vocale\")"
   ]
  },
  {
   "cell_type": "code",
   "execution_count": 25,
   "id": "a30eec79-3b57-4465-8df0-125453b12b64",
   "metadata": {},
   "outputs": [
    {
     "name": "stdin",
     "output_type": "stream",
     "text": [
      "inserisci il primo numero 7\n",
      "inserisci il secondo numero 9\n"
     ]
    },
    {
     "name": "stdout",
     "output_type": "stream",
     "text": [
      "numero piu'grande è:  9\n"
     ]
    }
   ],
   "source": [
    "num_1 = int(input(\"inserisci il primo numero\"))\n",
    "num_2 = int(input(\"inserisci il secondo numero\"))\n",
    "if num_1 > num_2:\n",
    "    print(\"numero piu'grande è: \", num_1)\n",
    "else:\n",
    "    print(\"numero piu'grande è: \", num_2)"
   ]
  },
  {
   "cell_type": "code",
   "execution_count": 23,
   "id": "2613833c-8d91-4cf4-a2c9-c857bbf2d880",
   "metadata": {},
   "outputs": [
    {
     "name": "stdin",
     "output_type": "stream",
     "text": [
      "inserisci un numero:  5\n"
     ]
    },
    {
     "name": "stdout",
     "output_type": "stream",
     "text": [
      "il numero è minore di 10\n"
     ]
    }
   ],
   "source": [
    "numero = int(input(\"inserisci un numero: \"))\n",
    "if numero >= 20:\n",
    "    print(\"il numero è maggiore o uguale a 20\")\n",
    "elif numero >= 10:\n",
    "    print(\"il numero è maggiore o uguale a 10\")\n",
    "else:\n",
    "    print(\"il numero è minore di 10\")\n",
    "    "
   ]
  },
  {
   "cell_type": "code",
   "execution_count": null,
   "id": "a838a112-6d50-4787-a0f9-99951e710fa4",
   "metadata": {},
   "outputs": [],
   "source": []
  }
 ],
 "metadata": {
  "kernelspec": {
   "display_name": "Python 3 (ipykernel)",
   "language": "python",
   "name": "python3"
  },
  "language_info": {
   "codemirror_mode": {
    "name": "ipython",
    "version": 3
   },
   "file_extension": ".py",
   "mimetype": "text/x-python",
   "name": "python",
   "nbconvert_exporter": "python",
   "pygments_lexer": "ipython3",
   "version": "3.11.7"
  }
 },
 "nbformat": 4,
 "nbformat_minor": 5
}
