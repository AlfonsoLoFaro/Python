{
 "cells": [
  {
   "cell_type": "code",
   "execution_count": 6,
   "id": "4191aad6-9755-4015-a92d-45683f2ee3cf",
   "metadata": {},
   "outputs": [],
   "source": [
    "#fare la spesa\n",
    "#fare la lista\n",
    "#andare al supermercato\n",
    "#prendere il carrello\n",
    "#fino a che non si svuota la lista riempi il carrello\n",
    "#svuota il carrello\n",
    "#paga alla cassa\n",
    "#torna a casa."
   ]
  },
  {
   "cell_type": "code",
   "execution_count": 13,
   "id": "8b80febd-8ca7-4cf1-8805-40feaa8b5af9",
   "metadata": {},
   "outputs": [],
   "source": [
    "#recarsi alla pompa di benzina\n",
    "#inserire il denaro e selezionare la pompa\n",
    "#estrarre la pistola\n",
    "#fino a quando continua ad erogare\n",
    "#introdurre carburante\n",
    "#ritirare lo scontrino\n",
    "#ripartire"
   ]
  },
  {
   "cell_type": "code",
   "execution_count": 14,
   "id": "35b00adf-0c8a-4551-9f47-1fc9032b22c9",
   "metadata": {},
   "outputs": [],
   "source": [
    "studenti = 25"
   ]
  },
  {
   "cell_type": "code",
   "execution_count": 5,
   "id": "c1f7eeef-93eb-41db-ba08-8f93e79ad916",
   "metadata": {},
   "outputs": [
    {
     "name": "stdout",
     "output_type": "stream",
     "text": [
      "25\n"
     ]
    }
   ],
   "source": [
    "print(studenti)"
   ]
  },
  {
   "cell_type": "code",
   "execution_count": 1,
   "id": "c53c7b70-4e74-4c66-bc5e-4132b2be0d17",
   "metadata": {},
   "outputs": [],
   "source": [
    "nuovi_studenti=3"
   ]
  },
  {
   "cell_type": "code",
   "execution_count": 7,
   "id": "6736e905-3bc2-469b-a41a-b7cd499d6919",
   "metadata": {},
   "outputs": [],
   "source": [
    "somma_studenti=studenti + nuovi_studenti"
   ]
  },
  {
   "cell_type": "code",
   "execution_count": 8,
   "id": "9525cb18-a090-4056-8bc2-d19ee9b5bbd6",
   "metadata": {},
   "outputs": [
    {
     "name": "stdout",
     "output_type": "stream",
     "text": [
      "28\n"
     ]
    }
   ],
   "source": [
    "print(somma_studenti)"
   ]
  },
  {
   "cell_type": "code",
   "execution_count": 10,
   "id": "04731361-b07b-4209-8715-d5827f769e87",
   "metadata": {},
   "outputs": [
    {
     "name": "stdout",
     "output_type": "stream",
     "text": [
      "Epicode\n"
     ]
    }
   ],
   "source": [
    "stringa='Epicode'\n",
    "print(stringa)"
   ]
  },
  {
   "cell_type": "code",
   "execution_count": 11,
   "id": "3088755a-41ac-4962-bf76-650a5ad71914",
   "metadata": {},
   "outputs": [
    {
     "name": "stdout",
     "output_type": "stream",
     "text": [
      "10\n",
      "12\n",
      "36\n"
     ]
    }
   ],
   "source": [
    "x=10\n",
    "print(x)\n",
    "x+=2\n",
    "print(x)\n",
    "x*=3\n",
    "print(x)"
   ]
  },
  {
   "cell_type": "code",
   "execution_count": 18,
   "id": "6d6cc15a-0a6a-4489-87ff-6ae0dbab87ca",
   "metadata": {},
   "outputs": [
    {
     "name": "stdout",
     "output_type": "stream",
     "text": [
      "36\n"
     ]
    }
   ],
   "source": [
    "y=10\n",
    "print((y+2)*3)"
   ]
  },
  {
   "cell_type": "code",
   "execution_count": 32,
   "id": "b52bee60-41db-4166-a6bb-8abbfe9a33e7",
   "metadata": {},
   "outputs": [
    {
     "name": "stdout",
     "output_type": "stream",
     "text": [
      "compreso\n"
     ]
    }
   ],
   "source": [
    "str1 = \"Windows\"\n",
    "if(len(str1) >= 5 and len(str1) <=8):\n",
    "    print(\"compreso\")\n",
    "else:\n",
    "    print (\"non compreso\")"
   ]
  },
  {
   "cell_type": "code",
   "execution_count": 33,
   "id": "7a34b8a4-b8c7-4e1a-a930-ed64cc9561f8",
   "metadata": {},
   "outputs": [
    {
     "name": "stdout",
     "output_type": "stream",
     "text": [
      "compreso\n"
     ]
    }
   ],
   "source": [
    "str2 = \"Excel\"\n",
    "if(len(str2) >= 5 and len(str2) <=8):\n",
    "    print(\"compreso\")"
   ]
  },
  {
   "cell_type": "code",
   "execution_count": 34,
   "id": "fa1e10bc-8779-49af-913c-112b26e37ad6",
   "metadata": {},
   "outputs": [
    {
     "name": "stdout",
     "output_type": "stream",
     "text": [
      "non compreso\n"
     ]
    }
   ],
   "source": [
    "str3 = \"Powerpoint\" \n",
    "if(len(str3) >= 5 and len(str3) <=8):\n",
    "    print(\"compreso\")\n",
    "else:\n",
    "    print (\"non compreso\")"
   ]
  },
  {
   "cell_type": "code",
   "execution_count": 35,
   "id": "930557ce-338e-44e6-a42e-a2d48fedeae1",
   "metadata": {},
   "outputs": [
    {
     "name": "stdout",
     "output_type": "stream",
     "text": [
      "non compreso\n"
     ]
    }
   ],
   "source": [
    "str4 = \"Word\"\n",
    "if(len(str4) >= 5 and len(str4) <=8):\n",
    "    print(\"compreso\")\n",
    "else:\n",
    "    print (\"non compreso\")"
   ]
  },
  {
   "cell_type": "code",
   "execution_count": 39,
   "id": "2a8f796d-e308-4abc-8b63-81e1d77da3a3",
   "metadata": {},
   "outputs": [
    {
     "name": "stdout",
     "output_type": "stream",
     "text": [
      "secondi di un anno bisestile: 31536000\n"
     ]
    }
   ],
   "source": [
    "secondi=60*60*24*365\n",
    "print(\"secondi di un anno bisestile:\", secondi)"
   ]
  },
  {
   "cell_type": "code",
   "execution_count": 43,
   "id": "605f80ce-3714-4bbb-b1e7-43dfd86633bd",
   "metadata": {},
   "outputs": [
    {
     "data": {
      "text/plain": [
       "'I AM STUDYING PYTHON'"
      ]
     },
     "execution_count": 43,
     "metadata": {},
     "output_type": "execute_result"
    }
   ],
   "source": [
    "my_string = \"I am studying Python\"\n",
    "my_string.upper()"
   ]
  },
  {
   "cell_type": "code",
   "execution_count": 45,
   "id": "bea3d3b2-f5fd-4725-9a26-62f36f708030",
   "metadata": {},
   "outputs": [
    {
     "data": {
      "text/plain": [
       "'i am studying python'"
      ]
     },
     "execution_count": 45,
     "metadata": {},
     "output_type": "execute_result"
    }
   ],
   "source": [
    "my_string.lower()"
   ]
  },
  {
   "cell_type": "code",
   "execution_count": 48,
   "id": "eeeb1cf2-2864-464c-ad09-8353fc421a21",
   "metadata": {},
   "outputs": [
    {
     "data": {
      "text/plain": [
       "'I am studying a lot'"
      ]
     },
     "execution_count": 48,
     "metadata": {},
     "output_type": "execute_result"
    }
   ],
   "source": [
    "my_string.replace(\"Python\", \"a lot\")"
   ]
  },
  {
   "cell_type": "code",
   "execution_count": 49,
   "id": "bf5c6884-4e95-4d78-993a-27bf641b567f",
   "metadata": {},
   "outputs": [
    {
     "data": {
      "text/plain": [
       "'I am studying Python'"
      ]
     },
     "execution_count": 49,
     "metadata": {},
     "output_type": "execute_result"
    }
   ],
   "source": [
    "my_string.strip()"
   ]
  },
  {
   "cell_type": "code",
   "execution_count": null,
   "id": "e133eef0-21e2-49ba-9a0f-62375689e014",
   "metadata": {},
   "outputs": [],
   "source": []
  }
 ],
 "metadata": {
  "kernelspec": {
   "display_name": "Python 3 (ipykernel)",
   "language": "python",
   "name": "python3"
  },
  "language_info": {
   "codemirror_mode": {
    "name": "ipython",
    "version": 3
   },
   "file_extension": ".py",
   "mimetype": "text/x-python",
   "name": "python",
   "nbconvert_exporter": "python",
   "pygments_lexer": "ipython3",
   "version": "3.11.7"
  }
 },
 "nbformat": 4,
 "nbformat_minor": 5
}
