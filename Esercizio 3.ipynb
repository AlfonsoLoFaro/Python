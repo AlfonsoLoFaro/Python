{
 "cells": [
  {
   "cell_type": "code",
   "execution_count": 3,
   "id": "c0cc2701-e5ce-44b5-8f00-a3fc5fe379ed",
   "metadata": {},
   "outputs": [],
   "source": [
    "import numpy as np\n",
    "import pandas as pd\n",
    "import math as mt"
   ]
  },
  {
   "cell_type": "code",
   "execution_count": 4,
   "id": "2df26b00-cd48-43c5-a7f8-0607dbb1db45",
   "metadata": {},
   "outputs": [],
   "source": [
    "#Abbiamo una lista di liste:\n",
    "mat = [[0, 1, 2, 3, 4], [5, 6, 7, 8, 9], [10, 11, 12, 13, 14]]"
   ]
  },
  {
   "cell_type": "code",
   "execution_count": 5,
   "id": "10a512b4-33b6-4f34-b354-a541556dd9d5",
   "metadata": {},
   "outputs": [],
   "source": [
    "mat_array = np.array(mat)"
   ]
  },
  {
   "cell_type": "code",
   "execution_count": 6,
   "id": "b39a839e-ffa0-41ee-8b8c-9ebd5cf1b1a2",
   "metadata": {},
   "outputs": [
    {
     "data": {
      "text/plain": [
       "array([[ 0,  1,  2,  3,  4],\n",
       "       [ 5,  6,  7,  8,  9],\n",
       "       [10, 11, 12, 13, 14]])"
      ]
     },
     "execution_count": 6,
     "metadata": {},
     "output_type": "execute_result"
    }
   ],
   "source": [
    "mat_array"
   ]
  },
  {
   "cell_type": "code",
   "execution_count": 7,
   "id": "62ca76b6-9efb-422e-81cb-762dd30b470b",
   "metadata": {},
   "outputs": [
    {
     "data": {
      "text/plain": [
       "(3, 5)"
      ]
     },
     "execution_count": 7,
     "metadata": {},
     "output_type": "execute_result"
    }
   ],
   "source": [
    "mat_array.shape"
   ]
  },
  {
   "cell_type": "code",
   "execution_count": 8,
   "id": "8d7ea26a-dbf2-46bd-80b3-822daf76f771",
   "metadata": {},
   "outputs": [
    {
     "data": {
      "text/plain": [
       "array([0, 1, 2, 3, 4])"
      ]
     },
     "execution_count": 8,
     "metadata": {},
     "output_type": "execute_result"
    }
   ],
   "source": [
    "mat_array[0,:]"
   ]
  },
  {
   "cell_type": "code",
   "execution_count": 9,
   "id": "f5a5f5be-6a7a-4291-b4a5-ad1766a14e34",
   "metadata": {},
   "outputs": [
    {
     "data": {
      "text/plain": [
       "array([5, 6, 7, 8, 9])"
      ]
     },
     "execution_count": 9,
     "metadata": {},
     "output_type": "execute_result"
    }
   ],
   "source": [
    "mat_array[-2,:]"
   ]
  },
  {
   "cell_type": "code",
   "execution_count": 11,
   "id": "f7d58cb0-a18a-4e32-90ad-27c7b7ed7714",
   "metadata": {},
   "outputs": [
    {
     "name": "stdout",
     "output_type": "stream",
     "text": [
      "SENO di 90:  1.0 \n",
      " COSENO di 90:  6.123233995736766e-17 \n",
      " SENO di 180:  1.2246467991473532e-16 \n",
      " COSENO di 180:  -1.0\n"
     ]
    }
   ],
   "source": [
    "print(\"SENO di 90: \", mt.sin(mt.pi/2),\"\\n\",\"COSENO di 90: \", mt.cos(mt.pi/2),\"\\n\",\"SENO di 180: \",mt.sin(mt.pi),\"\\n\",\"COSENO di 180: \", mt.cos(mt.pi))"
   ]
  },
  {
   "cell_type": "code",
   "execution_count": 12,
   "id": "852ec3de-c475-42f9-9562-2100984dde80",
   "metadata": {},
   "outputs": [
    {
     "name": "stdout",
     "output_type": "stream",
     "text": [
      "FATTORIALE di 4: 24\n"
     ]
    }
   ],
   "source": [
    "      print(\"FATTORIALE di 4:\", mt.factorial(4))"
   ]
  },
  {
   "cell_type": "code",
   "execution_count": 13,
   "id": "86af264d-4c2b-4bf2-acf1-9754c878399c",
   "metadata": {},
   "outputs": [
    {
     "data": {
      "text/plain": [
       "180.0"
      ]
     },
     "execution_count": 13,
     "metadata": {},
     "output_type": "execute_result"
    }
   ],
   "source": [
    "mt.degrees(mt.pi)"
   ]
  },
  {
   "cell_type": "code",
   "execution_count": 51,
   "id": "12ce22f5-370a-451f-b5a1-5120f2070b08",
   "metadata": {},
   "outputs": [
    {
     "name": "stdout",
     "output_type": "stream",
     "text": [
      "vendite mensili:\n",
      "\n",
      "[]\n",
      "[2, 1]\n",
      "[4, 3, 2, 1]\n",
      "[6, 5, 4, 3, 2, 1]\n",
      "[8, 7, 6, 5, 4, 3, 2, 1]\n"
     ]
    }
   ],
   "source": [
    "lst = [2000, 5500, 7200, 4320, 1280, 1900, 2500, 3900, 6410, 8150, 7100, 5350]\n",
    "lst = np.array(lst)\n",
    "\n",
    "#ciclo for in range\n",
    "#for x in range(100,110):\n",
    "#    print(x)\n",
    "\n",
    "#ciclo for in range con lo step di avanzamento che possiamo assegnare\n",
    "#for x in range(0,100,10):\n",
    " #   print(x)\n",
    "\n",
    "#print(\"vendite mensili:\\n\")\n",
    "#for x in range(0,10,2):\n",
    "#   print(list(range(x,0,-1)))\n"
   ]
  },
  {
   "cell_type": "code",
   "execution_count": 15,
   "id": "1aa304f4-c56b-4c3a-89d3-2919fd2b9067",
   "metadata": {},
   "outputs": [
    {
     "data": {
      "text/plain": [
       "array([2000, 5500, 7200, 4320, 1280, 1900, 2500, 3900, 6410, 8150, 7100,\n",
       "       5350])"
      ]
     },
     "execution_count": 15,
     "metadata": {},
     "output_type": "execute_result"
    }
   ],
   "source": [
    "lst"
   ]
  },
  {
   "cell_type": "code",
   "execution_count": 16,
   "id": "aa095373-5c7c-4e71-a3e9-ea00ce7b7d19",
   "metadata": {},
   "outputs": [
    {
     "name": "stdout",
     "output_type": "stream",
     "text": [
      "vendita max mensile:  8150\n"
     ]
    }
   ],
   "source": [
    "print(\"vendita max mensile: \", lst.max())"
   ]
  },
  {
   "cell_type": "code",
   "execution_count": 24,
   "id": "c695b9cc-2b8e-4325-8344-bc2d79cd83f3",
   "metadata": {},
   "outputs": [
    {
     "name": "stdout",
     "output_type": "stream",
     "text": [
      "vendite maggiori di 4999:  [5500 7200 6410 8150 7100 5350]\n",
      "quanti sono:  6\n"
     ]
    }
   ],
   "source": [
    "filter_5k = lst [lst > 4999]\n",
    "print(\"vendite maggiori di 4999: \", filter)\n",
    "print(\"quanti sono: \", len(filter_5k))"
   ]
  },
  {
   "cell_type": "code",
   "execution_count": 23,
   "id": "8a32c587-70fe-4ff1-983e-eeaace68ca85",
   "metadata": {},
   "outputs": [
    {
     "name": "stdout",
     "output_type": "stream",
     "text": [
      "vendite minori di 3000:  [2000 1280 1900 2500]\n",
      "quanti sono:  4\n"
     ]
    }
   ],
   "source": [
    "#quali sono le vendite minori di 3000 oggetti?\n",
    "filter_3k = lst [lst < 3000]\n",
    "print(\"vendite minori di 3000: \", filter_3k)\n",
    "print(\"quanti sono: \", len(filter_3k))"
   ]
  },
  {
   "cell_type": "code",
   "execution_count": 28,
   "id": "0846ec4c-4ec9-4a9c-a157-d6b0ac8ea9bb",
   "metadata": {},
   "outputs": [
    {
     "name": "stdout",
     "output_type": "stream",
     "text": [
      "media di oggetti venduti:  4634.166666666667\n",
      "media di oggetti venduti arrotondata a 2 decimali:  4634.17\n"
     ]
    }
   ],
   "source": [
    "#in media quanti oggetti sono stati venduti al mese?\n",
    "print(\"media di oggetti venduti: \",lst.mean())\n",
    "print(\"media di oggetti venduti arrotondata a 2 decimali: \",round(lst.mean(),2))"
   ]
  },
  {
   "cell_type": "code",
   "execution_count": 40,
   "id": "2f6f01b2-585e-439f-95a7-531cdafc0b0e",
   "metadata": {},
   "outputs": [
    {
     "name": "stdout",
     "output_type": "stream",
     "text": [
      "dati di tipo:  <class 'int'>\n",
      "dati di tipo:  <class 'numpy.int64'>\n",
      "massimo della serie:  25000\n",
      "valori della serie:  [12000 15000 20000 23000 25000 17000 14000 21000]\n",
      "valori della serie tra\n",
      " 1998    15000\n",
      "1999    20000\n",
      "2002    17000\n",
      "dtype: int64\n"
     ]
    }
   ],
   "source": [
    "fatturati_dict = {1997: 12_000, 1998: 15_000, 1999: 20_000, \n",
    "                2000: 23_000, 2001: 25_000, 2002: 17_000, \n",
    "                  2003: 14_000, 2004: 21_000} \n",
    "#struttura dati base di python, i dati sono memorizzati con una tipologia chiave valore\n",
    "\n",
    "fatturati_series = pd.Series([12_000, 15_000, 20_000, 23_000, \n",
    "                              25_000, 17_000, 14_000, 21_000], \n",
    "                             index=range(1997, 2005))\n",
    "#in questo caso invece Pandas fa una gestione virtualizzata dei dati, li organizza e li \n",
    "#mostra in forma tabellare \n",
    "\n",
    "print(\"dati di tipo: \",type(fatturati_dict[1997])) \n",
    "print(\"dati di tipo: \",type(fatturati_series[1997]))\n",
    "print(\"massimo della serie: \", fatturati_series.max())\n",
    "print(\"valori della serie: \", fatturati_series.values) \n",
    "print(\"valori della serie tra\\n\", fatturati_series[fatturati_series.between(left=15000, right=20000)]) "
   ]
  },
  {
   "cell_type": "code",
   "execution_count": 46,
   "id": "6d72c681-1e52-4362-8c2d-c44d9bbd11cc",
   "metadata": {},
   "outputs": [
    {
     "name": "stdout",
     "output_type": "stream",
     "text": [
      "[ 100  200  300  400  500  600  700  800  900 1000]\n",
      "lista stipendi raddoppiati con for [200, 400, 600, 800, 1000, 1200, 1400, 1600, 1800, 2000]\n",
      "lista stipendi raddoppiati comprehension [200, 400, 600, 800, 1000, 1200, 1400, 1600, 1800, 2000]\n",
      "lista stipendi raddoppiati masking [ 200  400  600  800 1000 1200 1400 1600 1800 2000]\n"
     ]
    }
   ],
   "source": [
    "stipendi = np.array( [100, 200, 300, 400, 500,  600, 700, 800, 900, 1000] )\n",
    "print (stipendi)\n",
    "\n",
    "#liste --> parentesi quadre, \n",
    "#tuple --> parentesi tonde\n",
    "#dizionari o set --> parentesi graffe\n",
    "\n",
    "lista_stipendi_raddoppiati=[]\n",
    "lista_stipendi_raddoppiati_com=[]\n",
    "#L'azienda ci chiede di raddoppiare tutti gli stipendi; facciamolo in due modi: \n",
    "#• con un ciclo for \n",
    "for  stipendio in stipendi:\n",
    "    lista_stipendi_raddoppiati.append(stipendio*2)\n",
    "\n",
    "#list comprehension quando vai a richiamare una riga di codice per dare delle operazioni\n",
    "lista_stipendi_raddoppiati_com = [stipendio*2 for stipendio in stipendi] \n",
    "print(\"lista stipendi raddoppiati con for\", lista_stipendi_raddoppiati)\n",
    "print(\"lista stipendi raddoppiati comprehension\", lista_stipendi_raddoppiati_com)\n",
    "\n",
    "#• con il masking\n",
    "lista_stipendi_raddoppiati_numpy=[]\n",
    "lista_stipendi_raddoppiati_numpy = stipendi*2\n",
    "print(\"lista stipendi raddoppiati masking\", lista_stipendi_raddoppiati_numpy)"
   ]
  },
  {
   "cell_type": "code",
   "execution_count": 60,
   "id": "67d45e86-86b5-442b-ab04-6c1eda59d272",
   "metadata": {},
   "outputs": [
    {
     "name": "stdout",
     "output_type": "stream",
     "text": [
      "enciclopedia\n",
      "atlante\n",
      "dizionario\n",
      "0 enciclopedia\n",
      "1 atlante\n",
      "2 dizionario\n",
      "Lucio frequenta ingegneria e ha 19  anni.\n",
      "\n",
      "Silvio frequenta medicina e ha 22  anni.\n",
      "\n",
      "Michela frequenta cinema e ha 25  anni.\n",
      "\n",
      "Natalia frequenta giurisprudenza e ha 21  anni.\n",
      "\n",
      "[('Anna', 28), ('Bruno', 34), ('Carla', 29)]\n",
      "Anna ha 28 anni.\n",
      "Bruno ha 34 anni.\n",
      "Carla ha 29 anni.\n"
     ]
    }
   ],
   "source": [
    "libri = [\"enciclopedia\", \"atlante\", \"dizionario\"] \n",
    "for libro in libri: \n",
    "    print(libro) \n",
    "    \n",
    "#alternativa con enumerate\n",
    "for contatore, libro in enumerate(libri): \n",
    "    print(contatore, libro)\n",
    "\n",
    "alunni = [\"Lucio\", \"Silvio\", \"Michela\",\"Natalia\"]\n",
    "corsi = [\"ingegneria\", \"medicina\", \"cinema\", \"giurisprudenza\"]\n",
    "anni = [19,22,25,21]\n",
    "\n",
    "for alunno, corso, eta in zip(alunni, corsi, anni):\n",
    "    print(alunno,\"frequenta\",corso,\"e ha\", eta, \" anni.\\n\")\n",
    "\n",
    "nomi = ['Anna', 'Bruno', 'Carla']\n",
    "età = [28, 34, 29]\n",
    "persone = zip(nomi, età) #zip permette di iterare contemporanemamente più liste\n",
    "# Converti l'iteratore in una lista di tuple\n",
    "lista_persone = list(persone)\n",
    "print(lista_persone)\n",
    "for nome, età in zip(nomi, età):\n",
    "    print(f\"{nome} ha {età} anni.\") #la f serve per formattare le stringhe"
   ]
  },
  {
   "cell_type": "code",
   "execution_count": null,
   "id": "a1889662-f962-4e2e-b1c9-d32fc0e8d128",
   "metadata": {},
   "outputs": [],
   "source": []
  }
 ],
 "metadata": {
  "kernelspec": {
   "display_name": "Python 3 (ipykernel)",
   "language": "python",
   "name": "python3"
  },
  "language_info": {
   "codemirror_mode": {
    "name": "ipython",
    "version": 3
   },
   "file_extension": ".py",
   "mimetype": "text/x-python",
   "name": "python",
   "nbconvert_exporter": "python",
   "pygments_lexer": "ipython3",
   "version": "3.11.7"
  }
 },
 "nbformat": 4,
 "nbformat_minor": 5
}
